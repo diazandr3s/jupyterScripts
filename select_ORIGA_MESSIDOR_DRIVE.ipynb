{
 "cells": [
  {
   "cell_type": "code",
   "execution_count": 1,
   "metadata": {},
   "outputs": [],
   "source": [
    "import subprocess   \n",
    "import pandas as pd"
   ]
  },
  {
   "cell_type": "code",
   "execution_count": 5,
   "metadata": {},
   "outputs": [
    {
     "name": "stdout",
     "output_type": "stream",
     "text": [
      "['Im001_g_Drive.png']\n",
      "Im001_g_Drive.png\n",
      "Im01_g_Drive.png\n"
     ]
    }
   ],
   "source": [
    "db = 'DRIVE'\n",
    "lisAddress = '../DCGAN_UNIT_baseline/lists_databases/' + db  + '_imgs.txt'\n",
    "pathImg = '../DCGAN_UNIT_baseline/images/data/'\n",
    "\n",
    "lis = pd.read_csv(lisAddress, sep=',', header=None)\n",
    "print(lis.values[0])\n",
    "print(lis.values[0][0])\n",
    "print(lis.values[0][0][:2] + lis.values[0][0][3:])"
   ]
  },
  {
   "cell_type": "code",
   "execution_count": 6,
   "metadata": {},
   "outputs": [],
   "source": [
    "for name in lis.values:\n",
    "    #name = str(name[0][:2]) + str(name[0][3:]) # This is for ORIGA\n",
    "    #name = str(name[0]).strip()[:-3] + 'png' # This is for MESSIDOR\n",
    "    status = subprocess.call(\"cp \" + pathImg + name + ' ' + \"../SS_DCGAN/data/\", shell=True)  "
   ]
  },
  {
   "cell_type": "code",
   "execution_count": null,
   "metadata": {},
   "outputs": [],
   "source": []
  }
 ],
 "metadata": {
  "kernelspec": {
   "display_name": "andresEnv",
   "language": "python",
   "name": "andresenv"
  },
  "language_info": {
   "codemirror_mode": {
    "name": "ipython",
    "version": 3
   },
   "file_extension": ".py",
   "mimetype": "text/x-python",
   "name": "python",
   "nbconvert_exporter": "python",
   "pygments_lexer": "ipython3",
   "version": "3.6.0"
  }
 },
 "nbformat": 4,
 "nbformat_minor": 2
}
