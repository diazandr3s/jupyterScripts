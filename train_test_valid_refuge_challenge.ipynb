{
 "cells": [
  {
   "cell_type": "code",
   "execution_count": 60,
   "metadata": {},
   "outputs": [
    {
     "name": "stdout",
     "output_type": "stream",
     "text": [
      "g231.png\n",
      "Train Gla images: 176\n",
      "Test Gla images: 108\n",
      "Val Gla images: 76\n"
     ]
    }
   ],
   "source": [
    "import os \n",
    "import numpy as np\n",
    "import matplotlib.pyplot as plt\n",
    "from sklearn.cross_validation import train_test_split\n",
    "import random\n",
    "import subprocess\n",
    "import re\n",
    "\n",
    "pathImg = '../refuge_challenge/new_data/'\n",
    "\n",
    "percentageTest = 0.30\n",
    "percentageVal = 0.30\n",
    "\n",
    "allNamesGla = []\n",
    "allPathsGla = []\n",
    "\n",
    "allNamesNor = []\n",
    "allPathsNor = []\n",
    "\n",
    "for root, _, files in os.walk(pathImg):\n",
    "    for name in files:\n",
    "        if name.endswith((\".jpg\", \".png\", \"JPG\", \"bmp\")): \n",
    "            # Glaucoma\n",
    "            if re.match('^g[0-9]',name):            \n",
    "                allPathsGla.append(root + '/' + name)\n",
    "                allNamesGla.append(name)\n",
    "            # Non-Glaucoma   \n",
    "            elif re.match('^n[0-9]',name):\n",
    "                allPathsNor.append(root + '/' + name)\n",
    "                allNamesNor.append(name)\n",
    "                \n",
    "\n",
    "                \n",
    "# Shuffle the names array\n",
    "random.shuffle(allNamesGla)\n",
    "random.shuffle(allNamesNor)\n",
    "\n",
    "      \n",
    "    \n",
    "# GLAUCOMA    \n",
    "# Split into validationTraining and Test    \n",
    "X_trainValidGla, X_testGla = train_test_split(allNamesGla, test_size = percentageTest, random_state=42) \n",
    "\n",
    "# Split into validation and training\n",
    "X_trainGla, X_validGla = train_test_split(X_trainValidGla, test_size = percentageVal, random_state=42)\n",
    "\n",
    "\n",
    "# NON-GLAUCOMA    \n",
    "# Split into validationTraining and Test    \n",
    "X_trainValidNor, X_testNor = train_test_split(allNamesNor, test_size = percentageTest, random_state=42) \n",
    "\n",
    "# Split into validation and training\n",
    "X_trainNor, X_validNor = train_test_split(X_trainValidNor, test_size = percentageVal, random_state=42)\n",
    "\n",
    "\n",
    "\n",
    "print(X_trainGla[0])\n",
    "print('Train Gla images: ' + str(len(X_trainGla)))\n",
    "print('Test Gla images: ' + str(len(X_testGla)))\n",
    "print('Val Gla images: ' + str(len(X_validGla)))\n",
    "\n"
   ]
  },
  {
   "cell_type": "code",
   "execution_count": 69,
   "metadata": {},
   "outputs": [],
   "source": [
    "# Results division\n",
    "base_root = '../refuge_challenge/input_frangi/'\n",
    "# Original images\n",
    "folder = ['pathological', 'healthy']\n",
    "\n",
    "for f in folder:\n",
    "    if not os.path.exists(base_root + 'train/' + f + '/'):\n",
    "        os.makedirs(base_root + 'train/' + f + '/')\n",
    "\n",
    "    if not os.path.exists(base_root + 'test/' + f + '/'):\n",
    "        os.makedirs(base_root + 'test/' + f + '/')\n",
    "\n",
    "    if not os.path.exists(base_root + 'val/' + f + '/'):\n",
    "        os.makedirs(base_root + 'val/' + f + '/')                \n"
   ]
  },
  {
   "cell_type": "code",
   "execution_count": 70,
   "metadata": {},
   "outputs": [],
   "source": [
    "# this is to make sure the test images are for the same for frangi and rgb \n",
    "pathImg = '../refuge_challenge/new_data_frangi/'"
   ]
  },
  {
   "cell_type": "code",
   "execution_count": 71,
   "metadata": {},
   "outputs": [],
   "source": [
    "# GLAUCOMA\n",
    "# Saving Training images\n",
    "for name in X_trainGla:\n",
    "    status = subprocess.call(\"cp \" + pathImg + 'Glaucoma/' + name + ' ' + base_root + \"train/pathological/\", shell=True)         "
   ]
  },
  {
   "cell_type": "code",
   "execution_count": 72,
   "metadata": {},
   "outputs": [],
   "source": [
    "# Saving Validation images\n",
    "for name in X_validGla:\n",
    "        status = subprocess.call(\"cp \" + pathImg + 'Glaucoma/' + name + ' ' + base_root + \"val/pathological/\", shell=True)         "
   ]
  },
  {
   "cell_type": "code",
   "execution_count": 73,
   "metadata": {},
   "outputs": [],
   "source": [
    "# Saving Test images\n",
    "for name in X_testGla:\n",
    "        status = subprocess.call(\"cp \" + pathImg + 'Glaucoma/' + name + ' ' + base_root + \"test/pathological/\", shell=True)  "
   ]
  },
  {
   "cell_type": "code",
   "execution_count": 74,
   "metadata": {},
   "outputs": [],
   "source": [
    "# NON-GLAUCOMA\n",
    "# Saving Training images\n",
    "for name in X_trainNor:\n",
    "    status = subprocess.call(\"cp \" + pathImg + 'Non-Glaucoma/' + name + ' ' + base_root + \"train/healthy/\", shell=True)  "
   ]
  },
  {
   "cell_type": "code",
   "execution_count": 75,
   "metadata": {},
   "outputs": [],
   "source": [
    "# Saving Validation images\n",
    "for name in X_validNor:\n",
    "        status = subprocess.call(\"cp \" + pathImg + 'Non-Glaucoma/' + name + ' ' + base_root + \"val/healthy/\", shell=True)  "
   ]
  },
  {
   "cell_type": "code",
   "execution_count": 76,
   "metadata": {},
   "outputs": [],
   "source": [
    "# Saving Test images\n",
    "for name in X_testNor:\n",
    "        status = subprocess.call(\"cp \" + pathImg + 'Non-Glaucoma/' + name + ' ' + base_root + \"test/healthy/\", shell=True)  "
   ]
  },
  {
   "cell_type": "code",
   "execution_count": null,
   "metadata": {},
   "outputs": [],
   "source": []
  }
 ],
 "metadata": {
  "kernelspec": {
   "display_name": "andresEnv",
   "language": "python",
   "name": "andresenv"
  },
  "language_info": {
   "codemirror_mode": {
    "name": "ipython",
    "version": 3
   },
   "file_extension": ".py",
   "mimetype": "text/x-python",
   "name": "python",
   "nbconvert_exporter": "python",
   "pygments_lexer": "ipython3",
   "version": "3.6.0"
  }
 },
 "nbformat": 4,
 "nbformat_minor": 2
}
