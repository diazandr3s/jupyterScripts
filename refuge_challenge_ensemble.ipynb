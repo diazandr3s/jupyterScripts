{
 "cells": [
  {
   "cell_type": "code",
   "execution_count": 1,
   "metadata": {},
   "outputs": [],
   "source": [
    "import glob\n",
    "import pandas as pd\n",
    "import numpy as np"
   ]
  },
  {
   "cell_type": "code",
   "execution_count": 2,
   "metadata": {},
   "outputs": [
    {
     "name": "stdout",
     "output_type": "stream",
     "text": [
      "['../refuge_challenge/results/ResNet50_results_Batch_8_frangi.csv', '../refuge_challenge/results/ResNet50_results_Batch_8_rgb.csv', '../refuge_challenge/results/VGG19_results_Batch_8_frangi.csv', '../refuge_challenge/results/Xception_results_Batch_8_frangi.csv', '../refuge_challenge/results/Xception_results_Batch_8_rgb.csv', '../refuge_challenge/results/VGG19_results_Batch_8_rgb.csv']\n"
     ]
    }
   ],
   "source": [
    "# Remember to make sure that the test images are the same for test in RGB and Frangi\n",
    "\n",
    "path_csv = '../refuge_challenge/results/*'\n",
    "lista_paths = glob.glob(path_csv)\n",
    "print(lista_paths)"
   ]
  },
  {
   "cell_type": "code",
   "execution_count": 3,
   "metadata": {},
   "outputs": [],
   "source": [
    "listRef = pd.read_csv(lista_paths[0], sep=',') \n",
    "names_ref = [i[0] for i in listRef.values]\n",
    "#print(names_ref)    "
   ]
  },
  {
   "cell_type": "code",
   "execution_count": 4,
   "metadata": {},
   "outputs": [
    {
     "name": "stdout",
     "output_type": "stream",
     "text": [
      "6\n"
     ]
    }
   ],
   "source": [
    "print(len(lista_paths))"
   ]
  },
  {
   "cell_type": "code",
   "execution_count": 5,
   "metadata": {},
   "outputs": [],
   "source": [
    "## MAKE THIS WORKS!!\n",
    "\n",
    "all_values = np.zeros(len(names_ref))\n",
    "aux_value = np.zeros(len(names_ref))\n",
    "\n",
    "for j in range(len(lista_paths)): \n",
    "    #print(lista_paths[j])\n",
    "    list_j = pd.read_csv(lista_paths[j], sep=',') \n",
    "    #print(list_j.values)\n",
    "    \n",
    "    for i, x in enumerate(list_j.values):\n",
    "        idx = names_ref.index(x[0])\n",
    "        aux_value[idx] = x[1]\n",
    "    \n",
    "    #print(aux_value)\n",
    "    #print(np.array(aux_value))\n",
    "    all_values = all_values + np.array(aux_value)\n",
    "    aux_value = np.zeros(len(names_ref))\n",
    "        \n",
    "\n",
    "#print(all_values/len(lista_paths)  \n",
    "#f = [[names_ref[i], np.around(all_values[i]/6,1)] for i in range(len(names_ref))]\n",
    "#print(f)\n",
    "res = pd.DataFrame({'FileName': names_ref, 'Glaucoma Risk': np.around(all_values/len(lista_paths),1)})\n",
    "res.to_csv('../refuge_challenge/results/final_results_ensemble_refuge.csv', index=False)"
   ]
  },
  {
   "cell_type": "code",
   "execution_count": null,
   "metadata": {},
   "outputs": [],
   "source": []
  }
 ],
 "metadata": {
  "kernelspec": {
   "display_name": "andresEnv",
   "language": "python",
   "name": "andresenv"
  },
  "language_info": {
   "codemirror_mode": {
    "name": "ipython",
    "version": 3
   },
   "file_extension": ".py",
   "mimetype": "text/x-python",
   "name": "python",
   "nbconvert_exporter": "python",
   "pygments_lexer": "ipython3",
   "version": "3.6.0"
  }
 },
 "nbformat": 4,
 "nbformat_minor": 2
}
