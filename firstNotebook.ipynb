{
 "cells": [
  {
   "cell_type": "code",
   "execution_count": 1,
   "metadata": {},
   "outputs": [
    {
     "name": "stderr",
     "output_type": "stream",
     "text": [
      "/usr/local/lib/python3.6/importlib/_bootstrap.py:205: RuntimeWarning: compiletime version 3.5 of module 'tensorflow.python.framework.fast_tensor_util' does not match runtime version 3.6\n",
      "  return f(*args, **kwds)\n",
      "/home/cvblab03/.virtualenvs/andresEnv/lib/python3.6/site-packages/h5py/__init__.py:36: FutureWarning: Conversion of the second argument of issubdtype from `float` to `np.floating` is deprecated. In future, it will be treated as `np.float64 == np.dtype(float).type`.\n",
      "  from ._conv import register_converters as _register_converters\n",
      "Using TensorFlow backend.\n"
     ]
    }
   ],
   "source": [
    "# To work in a certain env using jupyter. Just start the desire env and execute this command: \n",
    "# first make sure you have install ipykernel\n",
    "# python -m ipykernel install --user --name andresEnv --display-name \"andresEnv\"\n",
    "# being \"andresEnv\" the name of the env\n",
    "\n",
    "# you have to install ipython and jupyter inside the env using pip (pip install ipython jupyter)\n",
    "\n",
    "# jupyter notebook --ip='*'\n",
    "\n",
    "# Check this http://deeplearning.lipingyang.org/2017/10/14/intall-ipython-and-jupyter-in-a-virtualenv/\n",
    "\n",
    " \n",
    "# One I got this error \"ModuleNotFoundError: No module named '_sqlite3'\"     \n",
    "    \n",
    "# Hi!\n",
    "\n",
    "# I think this is unrelated to TextBolb. I'm new to python but i ran into the same problem yesterday. I used pyenv and somehow sqlite was not build/installed and I was missing the _sqlite3 as well.\n",
    "# In order to solve it I did the following:\n",
    "\n",
    "#     sudo apt-get install libsqlite3-dev\n",
    "#     (Or you can install more packages as suggested on the pyenv wiki: apt-get install -y make build-essential libssl-dev zlib1g-dev libbz2-dev libreadline-dev libsqlite3-dev wget curl llvm libncurses5-dev xz-utils tk-dev\n",
    "#     Now in the downloaded python source rebuild and install python with the following command: ./configure --enable-loadable-sqlite-extensions && make && sudo make install\n",
    "\n",
    "# Anyway the key thing for me was to have the libsqlite3-dev installed and then rebuild/install with the correct flags.\n",
    "\n",
    "# Hope it helps. If did, then please close the ticket.\n",
    "     \n",
    "\n",
    "\n",
    "import tensorflow as tf\n",
    "import keras "
   ]
  },
  {
   "cell_type": "code",
   "execution_count": null,
   "metadata": {},
   "outputs": [],
   "source": []
  }
 ],
 "metadata": {
  "kernelspec": {
   "display_name": "andresEnv",
   "language": "python",
   "name": "andresenv"
  },
  "language_info": {
   "codemirror_mode": {
    "name": "ipython",
    "version": 3
   },
   "file_extension": ".py",
   "mimetype": "text/x-python",
   "name": "python",
   "nbconvert_exporter": "python",
   "pygments_lexer": "ipython3",
   "version": "3.6.0"
  }
 },
 "nbformat": 4,
 "nbformat_minor": 2
}
