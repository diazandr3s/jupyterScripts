{
 "cells": [
  {
   "cell_type": "code",
   "execution_count": 131,
   "metadata": {},
   "outputs": [],
   "source": [
    "import pandas as pd\n",
    "from sklearn.metrics import precision_recall_fscore_support, accuracy_score, confusion_matrix, roc_curve, auc\n",
    "import matplotlib.pyplot as plt"
   ]
  },
  {
   "cell_type": "code",
   "execution_count": 162,
   "metadata": {},
   "outputs": [
    {
     "name": "stdout",
     "output_type": "stream",
     "text": [
      "1080\n"
     ]
    }
   ],
   "source": [
    "res = pd.read_csv('../SS_DCGAN/results.csv', sep=',') \n",
    "#print(res.values)\n",
    "print(len(res.values))"
   ]
  },
  {
   "cell_type": "code",
   "execution_count": 163,
   "metadata": {},
   "outputs": [
    {
     "name": "stdout",
     "output_type": "stream",
     "text": [
      "722\n"
     ]
    }
   ],
   "source": [
    "# This only takes into account images with Glaucoma/Normal label. MESSIDOR images does not have any label\n",
    "\n",
    "ground_truth = []\n",
    "for i in res.values:\n",
    "    if ('Im' in i[0]) and ('_g_' in i[0]):\n",
    "        ground_truth.append(1)\n",
    "    elif 'Im' in i[0]:\n",
    "        ground_truth.append(0)\n",
    "        \n",
    "print(len(ground_truth))\n",
    "#print(sum(ground_truth))\n",
    "        "
   ]
  },
  {
   "cell_type": "code",
   "execution_count": 164,
   "metadata": {},
   "outputs": [
    {
     "name": "stdout",
     "output_type": "stream",
     "text": [
      "722\n"
     ]
    }
   ],
   "source": [
    "labels_pred = []\n",
    "label_prob = []\n",
    "thres = 0.5\n",
    "for i in res.values:\n",
    "    if 'Im' in i[0]:\n",
    "        label_prob.append(i[1])\n",
    "        if i[1] > thres:\n",
    "            # Normal is the label 0\n",
    "            labels_pred.append(0)\n",
    "        else:\n",
    "            # Glaucoma is the label 1\n",
    "            labels_pred.append(1)\n",
    "        \n",
    "print(len(labels_pred))"
   ]
  },
  {
   "cell_type": "code",
   "execution_count": 165,
   "metadata": {},
   "outputs": [
    {
     "name": "stdout",
     "output_type": "stream",
     "text": [
      "Precision - Recall - fscore\n",
      "(0.8033240997229917, 0.8033240997229917, 0.8033240997229917, None)\n",
      "Accuracy score\n",
      "0.8033240997229917\n",
      "Confusion Matrix\n",
      "[[368  61]\n",
      " [ 81 212]]\n"
     ]
    }
   ],
   "source": [
    "print('Precision - Recall - fscore')\n",
    "pre_re_fscore = precision_recall_fscore_support(ground_truth, labels_pred, average='micro')\n",
    "print(pre_re_fscore)\n",
    "\n",
    "print('Accuracy score')\n",
    "acc_score = accuracy_score(ground_truth, labels_pred)\n",
    "print(acc_score)\n",
    "\n",
    "print('Confusion Matrix')\n",
    "confu_matrix = confusion_matrix(ground_truth, labels_pred)\n",
    "print(confu_matrix)"
   ]
  },
  {
   "cell_type": "code",
   "execution_count": 184,
   "metadata": {},
   "outputs": [],
   "source": [
    "fpr, tpr, _ = roc_curve(ground_truth, label_prob)\n",
    "roc_auc = auc(fpr,tpr)"
   ]
  },
  {
   "cell_type": "code",
   "execution_count": 187,
   "metadata": {},
   "outputs": [
    {
     "data": {
      "image/png": "[encoded data removed]",
      "text/plain": [
       "<matplotlib.figure.Figure at 0x7f8c5164e470>"
      ]
     },
     "metadata": {},
     "output_type": "display_data"
    }
   ],
   "source": [
    "plt.figure()\n",
    "# How thick we want the lines\n",
    "lw = 3 \n",
    "plt.plot(fpr, tpr, color='green', lw=lw, label='ROC curve (area = %0.2f)' % (1-roc_auc))\n",
    "plt.plot([0, 1], [0, 1], color='blue', lw=lw, linestyle='--')\n",
    "# Limits to x and y axis\n",
    "plt.xlim([0.0, 1.0])\n",
    "plt.ylim([0.0, 1.05])\n",
    "# labels for x and y\n",
    "plt.xlabel('False Positive Rate')\n",
    "plt.ylabel('True Positive Rate')\n",
    "# title\n",
    "plt.title('Receiver operating characteristic')\n",
    "# position of the curve legend\n",
    "plt.legend(loc=\"lower right\")\n",
    "plt.show()"
   ]
  },
  {
   "cell_type": "code",
   "execution_count": null,
   "metadata": {},
   "outputs": [],
   "source": []
  }
 ],
 "metadata": {
  "kernelspec": {
   "display_name": "andresEnv",
   "language": "python",
   "name": "andresenv"
  },
  "language_info": {
   "codemirror_mode": {
    "name": "ipython",
    "version": 3
   },
   "file_extension": ".py",
   "mimetype": "text/x-python",
   "name": "python",
   "nbconvert_exporter": "python",
   "pygments_lexer": "ipython3",
   "version": "3.6.0"
  }
 },
 "nbformat": 4,
 "nbformat_minor": 2
}
