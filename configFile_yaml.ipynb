{
 "cells": [
  {
   "cell_type": "code",
   "execution_count": 38,
   "metadata": {},
   "outputs": [],
   "source": [
    "import yaml"
   ]
  },
  {
   "cell_type": "code",
   "execution_count": 41,
   "metadata": {},
   "outputs": [],
   "source": [
    "config = '../DCGAN_UNIT_baseline/UNIT/exps/gray2colorFundus.yaml'\n",
    "stream = open(config,'r')\n",
    "docs = yaml.load_all(stream)"
   ]
  },
  {
   "cell_type": "code",
   "execution_count": 42,
   "metadata": {},
   "outputs": [],
   "source": [
    "class NetConfig(object):\n",
    "    def __init__(self, config):\n",
    "        stream = open(config,'r')\n",
    "        docs = yaml.load_all(stream)\n",
    "        for doc in docs:\n",
    "            for k, v in doc.items():\n",
    "                if k == \"train\":\n",
    "                    for k1, v1 in v.items():\n",
    "                        cmd = \"self.\" + k1 + \"=\" + repr(v1)\n",
    "                        print(cmd)\n",
    "                        exec(cmd)\n",
    "        stream.close()"
   ]
  },
  {
   "cell_type": "code",
   "execution_count": 44,
   "metadata": {},
   "outputs": [
    {
     "name": "stdout",
     "output_type": "stream",
     "text": [
      "self.snapshot_save_iterations=100000\n",
      "self.image_save_iterations=50000\n",
      "self.image_display_iterations=100\n",
      "self.display=1000\n",
      "self.snapshot_prefix='/home/UNIT/outputs/'\n",
      "self.hyperparameters={'trainer': 'COCOGANTrainer', 'lr': 0.0001, 'll_direct_link_w': 100, 'kl_direct_link_w': 0.1, 'll_cycle_link_w': 100, 'kl_cycle_link_w': 0.1, 'gan_w': 10, 'batch_size': 1, 'max_iterations': 2000000, 'gen': {'name': 'COCOResGen2', 'ch': 64, 'input_dim_a': 3, 'input_dim_b': 3, 'n_enc_front_blk': 3, 'n_enc_res_blk': 3, 'n_enc_shared_blk': 1, 'n_gen_shared_blk': 1, 'n_gen_res_blk': 3, 'n_gen_front_blk': 3}, 'dis': {'name': 'COCOSharedDis', 'ch': 64, 'input_dim_a': 3, 'input_dim_b': 3, 'n_front_layer': 2, 'n_shared_layer': 4}}\n",
      "self.datasets={'train_a': {'channels': 1, 'scale': 1.0, 'crop_image_height': 224, 'crop_image_width': 224, 'class_name': 'dataset_imagenet_image', 'root': '/home/images/', 'folder': './dataGraySynth/', 'list_name': 'lists/nameGraySynth.txt'}, 'train_b': {'channels': 3, 'scale': 1.0, 'crop_image_height': 224, 'crop_image_width': 224, 'class_name': 'dataset_imagenet_image', 'root': '/home/images/', 'folder': './data/', 'list_name': 'lists/nameReal.txt'}}\n"
     ]
    }
   ],
   "source": [
    "t = NetConfig(config)"
   ]
  },
  {
   "cell_type": "code",
   "execution_count": 45,
   "metadata": {},
   "outputs": [
    {
     "name": "stdout",
     "output_type": "stream",
     "text": [
      "<__main__.NetConfig object at 0x7fb793fa7e10>\n"
     ]
    }
   ],
   "source": [
    "print(t)"
   ]
  },
  {
   "cell_type": "code",
   "execution_count": 46,
   "metadata": {},
   "outputs": [
    {
     "name": "stdout",
     "output_type": "stream",
     "text": [
      "1000\n"
     ]
    }
   ],
   "source": [
    "print(t.display)"
   ]
  },
  {
   "cell_type": "code",
   "execution_count": null,
   "metadata": {},
   "outputs": [],
   "source": []
  }
 ],
 "metadata": {
  "kernelspec": {
   "display_name": "andresEnv",
   "language": "python",
   "name": "andresenv"
  },
  "language_info": {
   "codemirror_mode": {
    "name": "ipython",
    "version": 3
   },
   "file_extension": ".py",
   "mimetype": "text/x-python",
   "name": "python",
   "nbconvert_exporter": "python",
   "pygments_lexer": "ipython3",
   "version": "3.6.0"
  }
 },
 "nbformat": 4,
 "nbformat_minor": 2
}
