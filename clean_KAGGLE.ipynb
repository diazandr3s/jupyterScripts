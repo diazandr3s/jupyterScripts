{
 "cells": [
  {
   "cell_type": "code",
   "execution_count": 38,
   "metadata": {},
   "outputs": [],
   "source": [
    "import pandas as pd"
   ]
  },
  {
   "cell_type": "code",
   "execution_count": 39,
   "metadata": {},
   "outputs": [],
   "source": [
    "# Reading csv files\n",
    "\n",
    "# 1: image file name\n",
    "# 2-5: detected optic disc bounding box coordinates, i.e., [x1, y1, x2, y2]\n",
    "# 6-9: detected optic cup bounding box coordinates, i.e., [x1, y1, x2, y2]\n",
    "# 10: confidence score for the detected optic disc bounding box \n",
    "# 11: confidence score for the detected optic cup bounding box\n",
    "# 12: image quality assessment output score\n",
    "# 13: image quality assessment results, where 1 indicates good quality and 0 otherwise. \n",
    "#     The threshold is set to be 0.5 here.\n",
    "\n",
    "db = 'KAGGLE'\n",
    "infoTrain = pd.read_csv('./info2crop/' + db + '/train.csv', sep=',', header=None) \n",
    "infoTest = pd.read_csv('./info2crop/' + db + '/test.csv', sep=',', header=None) \n",
    "\n",
    "infoAux = [infoTrain, infoTest]\n",
    "info = pd.concat(infoAux)\n",
    "#print(info)\n"
   ]
  },
  {
   "cell_type": "code",
   "execution_count": 40,
   "metadata": {},
   "outputs": [
    {
     "name": "stdout",
     "output_type": "stream",
     "text": [
      "3869\n"
     ]
    }
   ],
   "source": [
    "co = 0\n",
    "for n in info.values:\n",
    "    #print(n[1:9])\n",
    "    ev = n[1:9].sum()\n",
    "    if (ev == 0) or (n[10]==0):\n",
    "        co+=1\n",
    "    #print(ev)\n",
    "    \n",
    "print(co)"
   ]
  },
  {
   "cell_type": "code",
   "execution_count": null,
   "metadata": {},
   "outputs": [],
   "source": []
  }
 ],
 "metadata": {
  "kernelspec": {
   "display_name": "andresEnv",
   "language": "python",
   "name": "andresenv"
  },
  "language_info": {
   "codemirror_mode": {
    "name": "ipython",
    "version": 3
   },
   "file_extension": ".py",
   "mimetype": "text/x-python",
   "name": "python",
   "nbconvert_exporter": "python",
   "pygments_lexer": "ipython3",
   "version": "3.6.0"
  }
 },
 "nbformat": 4,
 "nbformat_minor": 2
}
