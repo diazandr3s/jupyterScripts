{
 "cells": [
  {
   "cell_type": "code",
   "execution_count": 23,
   "metadata": {},
   "outputs": [
    {
     "name": "stdout",
     "output_type": "stream",
     "text": [
      "Glaucoma images: 976\n",
      "Normal images: 2621\n"
     ]
    }
   ],
   "source": [
    "import os \n",
    "import numpy as np\n",
    "import matplotlib.pyplot as plt\n",
    "from sklearn.cross_validation import train_test_split\n",
    "import random\n",
    "import subprocess\n",
    "\n",
    "pathImg = '../SS_DCGAN/data/'\n",
    "\n",
    "percentageTest = 0.30\n",
    "\n",
    "allNamesGla = []\n",
    "allNamesNor = []\n",
    "allPaths = []\n",
    "\n",
    "for root, _, files in os.walk(pathImg):\n",
    "    for name in files:\n",
    "        if name.endswith((\".jpg\", \".png\", \"JPG\")):\n",
    "            if '_g_' in name:\n",
    "                allPaths.append(root + '/' + name)\n",
    "                allNamesGla.append(name)\n",
    "            else:\n",
    "                allPaths.append(root + '/' + name)\n",
    "                allNamesNor.append(name)\n",
    "                \n",
    "        \n",
    "# Shuffle the names array\n",
    "random.shuffle(allNamesGla)\n",
    "random.shuffle(allNamesNor)\n",
    "\n",
    "print('Glaucoma images: ' + str(len(allNamesGla)))\n",
    "print('Normal images: ' + str(len(allNamesNor)))       "
   ]
  },
  {
   "cell_type": "code",
   "execution_count": 24,
   "metadata": {},
   "outputs": [
    {
     "name": "stdout",
     "output_type": "stream",
     "text": [
      "Im078_g_RIM.jpg\n",
      "Train images: 683\n",
      "Test images: 293\n"
     ]
    }
   ],
   "source": [
    "# Split into training and Test    \n",
    "X_train_gla, X_test_gla = train_test_split(allNamesGla, test_size = percentageTest, random_state=42) \n",
    "X_train_nor, X_test_nor = train_test_split(allNamesNor, test_size = percentageTest, random_state=42) \n",
    "\n",
    "\n",
    "print(X_train_gla[0])\n",
    "\n",
    "print('Train images: ' + str(len(X_train_gla)))\n",
    "print('Test images: ' + str(len(X_test_gla)))"
   ]
  },
  {
   "cell_type": "code",
   "execution_count": 25,
   "metadata": {},
   "outputs": [],
   "source": [
    "data_root = '../SS_DCGAN/data_gla_nor/'\n",
    "\n",
    "if not os.path.exists(data_root + 'train/'):\n",
    "    os.makedirs(data_root + 'train/')\n",
    "    \n",
    "if not os.path.exists(data_root + 'test/'):\n",
    "    os.makedirs(data_root + 'test/')      \n"
   ]
  },
  {
   "cell_type": "code",
   "execution_count": 26,
   "metadata": {},
   "outputs": [],
   "source": [
    "# Saving Training glaucoma images\n",
    "for name in X_train_gla:\n",
    "    status = subprocess.call(\"cp \" + pathImg + name + ' ' + data_root + \"train/\" , shell=True)         "
   ]
  },
  {
   "cell_type": "code",
   "execution_count": 27,
   "metadata": {},
   "outputs": [],
   "source": [
    "# Saving training normal images\n",
    "for name in X_train_nor:\n",
    "        status = subprocess.call(\"cp \" + pathImg + name + ' ' + data_root + \"train/\", shell=True)         "
   ]
  },
  {
   "cell_type": "code",
   "execution_count": 28,
   "metadata": {},
   "outputs": [],
   "source": [
    "for name in X_test_gla:\n",
    "    status = subprocess.call(\"cp \" + pathImg + name + ' ' + data_root + \"test/\" , shell=True)    "
   ]
  },
  {
   "cell_type": "code",
   "execution_count": 29,
   "metadata": {},
   "outputs": [],
   "source": [
    "for name in X_test_nor:\n",
    "    status = subprocess.call(\"cp \" + pathImg + name + ' ' + data_root + \"test/\" , shell=True)   "
   ]
  },
  {
   "cell_type": "code",
   "execution_count": null,
   "metadata": {},
   "outputs": [],
   "source": []
  }
 ],
 "metadata": {
  "kernelspec": {
   "display_name": "andresEnv",
   "language": "python",
   "name": "andresenv"
  },
  "language_info": {
   "codemirror_mode": {
    "name": "ipython",
    "version": 3
   },
   "file_extension": ".py",
   "mimetype": "text/x-python",
   "name": "python",
   "nbconvert_exporter": "python",
   "pygments_lexer": "ipython3",
   "version": "3.6.0"
  }
 },
 "nbformat": 4,
 "nbformat_minor": 2
}
