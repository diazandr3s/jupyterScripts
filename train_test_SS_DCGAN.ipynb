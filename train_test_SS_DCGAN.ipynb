{
 "cells": [
  {
   "cell_type": "code",
   "execution_count": 69,
   "metadata": {},
   "outputs": [
    {
     "name": "stdout",
     "output_type": "stream",
     "text": [
      "Glaucoma images: 976\n",
      "Normal images: 1421\n",
      "Unsupervised images: 84529\n"
     ]
    }
   ],
   "source": [
    "import os \n",
    "import numpy as np\n",
    "import matplotlib.pyplot as plt\n",
    "from sklearn.cross_validation import train_test_split\n",
    "import random\n",
    "import subprocess\n",
    "import re\n",
    "\n",
    "pathImg = '../SS_DCGAN/data_kaggle/'\n",
    "\n",
    "percentageTest = 0.30\n",
    "\n",
    "allNamesGla = []\n",
    "allNamesNor = []\n",
    "X_train_NoLabel = []\n",
    "allPaths = []\n",
    "\n",
    "for root, _, files in os.walk(pathImg):\n",
    "    for name in files:\n",
    "        if name.endswith((\".jpg\", \".png\", \".JPG\", \".jpeg\", \".bmp\")):\n",
    "            if '_g_' in name:\n",
    "                allPaths.append(root + '/' + name)\n",
    "                allNamesGla.append(name)\n",
    "            elif re.match('^Im[0-9]',name) and not '_g_' in name:\n",
    "                allPaths.append(root + '/' + name)\n",
    "                allNamesNor.append(name)\n",
    "            else:\n",
    "                allPaths.append(root + '/' + name)\n",
    "                X_train_NoLabel.append(name)                \n",
    "                \n",
    "        \n",
    "# Shuffle the names array\n",
    "random.shuffle(allNamesGla)\n",
    "random.shuffle(allNamesNor)\n",
    "random.shuffle(allNamesNoLabel)\n",
    "\n",
    "print('Glaucoma images: ' + str(len(allNamesGla)))\n",
    "print('Normal images: ' + str(len(allNamesNor)))\n",
    "print('Unsupervised images: ' + str(len(allNamesNoLabel)))\n",
    "\n",
    "# dividing the unsupervised images"
   ]
  },
  {
   "cell_type": "code",
   "execution_count": 70,
   "metadata": {},
   "outputs": [
    {
     "name": "stdout",
     "output_type": "stream",
     "text": [
      "Im468_g_ACRIMA.jpg\n",
      "Train images Glaucoma: 683\n",
      "Train images Normal: 994\n",
      "Total Train images Glaucoma-Normal-No label: 86206\n",
      "Test images Glaucoma: 293\n",
      "Test images Normal: 427\n"
     ]
    }
   ],
   "source": [
    "# Split into training and Test    \n",
    "X_train_gla, X_test_gla = train_test_split(allNamesGla, test_size = percentageTest, random_state=42) \n",
    "X_train_nor, X_test_nor = train_test_split(allNamesNor, test_size = percentageTest, random_state=42) \n",
    "\n",
    "print(X_train_gla[0])\n",
    "\n",
    "print('Train images Glaucoma: ' + str(len(X_train_gla)))\n",
    "print('Train images Normal: ' + str(len(X_train_nor)))\n",
    "print('Total Train images Glaucoma-Normal-No label: ' + str(len(X_train_gla)+len(X_train_nor)+len(X_train_NoLabel)))\n",
    "print('Test images Glaucoma: ' + str(len(X_test_gla)))\n",
    "print('Test images Normal: ' + str(len(X_test_nor)))"
   ]
  },
  {
   "cell_type": "code",
   "execution_count": 71,
   "metadata": {},
   "outputs": [],
   "source": [
    "data_root = '../SS_DCGAN/data_gla_nor/'\n",
    "\n",
    "if not os.path.exists(data_root + 'train/'):\n",
    "    os.makedirs(data_root + 'train/')\n",
    "    \n",
    "if not os.path.exists(data_root + 'test/'):\n",
    "    os.makedirs(data_root + 'test/')      \n"
   ]
  },
  {
   "cell_type": "code",
   "execution_count": 72,
   "metadata": {},
   "outputs": [],
   "source": [
    "# Saving Training glaucoma images\n",
    "for name in X_train_gla:\n",
    "    status = subprocess.call(\"cp \" + pathImg + name + ' ' + data_root + \"train/\" , shell=True)         "
   ]
  },
  {
   "cell_type": "code",
   "execution_count": 73,
   "metadata": {},
   "outputs": [],
   "source": [
    "# Saving training normal images\n",
    "for name in X_train_nor:\n",
    "        status = subprocess.call(\"cp \" + pathImg + name + ' ' + data_root + \"train/\", shell=True)         "
   ]
  },
  {
   "cell_type": "code",
   "execution_count": 76,
   "metadata": {},
   "outputs": [],
   "source": [
    "# PAY ATTENTION WITH IMAGES WITH A SPACE IN ITS NAME. (Data in S3 has that problem, but Not in cvblab03)\n",
    "# Saving training No Label images\n",
    "for name in X_train_NoLabel:\n",
    "    status = subprocess.call(\"cp \" + pathImg + name + ' ' + data_root + \"train/\" , shell=True)  "
   ]
  },
  {
   "cell_type": "code",
   "execution_count": 74,
   "metadata": {},
   "outputs": [],
   "source": [
    "for name in X_test_gla:\n",
    "    status = subprocess.call(\"cp \" + pathImg + name + ' ' + data_root + \"test/\" , shell=True)    "
   ]
  },
  {
   "cell_type": "code",
   "execution_count": 75,
   "metadata": {},
   "outputs": [],
   "source": [
    "for name in X_test_nor:\n",
    "    status = subprocess.call(\"cp \" + pathImg + name + ' ' + data_root + \"test/\" , shell=True)   "
   ]
  },
  {
   "cell_type": "code",
   "execution_count": 46,
   "metadata": {},
   "outputs": [],
   "source": [
    "# For testing we are not interested in images with no labels\n",
    "#for name in X_test_NoLabel:\n",
    "#   status = subprocess.call(\"cp \" + pathImg + name + ' ' + data_root + \"test/\" , shell=True)  "
   ]
  },
  {
   "cell_type": "code",
   "execution_count": null,
   "metadata": {},
   "outputs": [],
   "source": [
    " "
   ]
  }
 ],
 "metadata": {
  "kernelspec": {
   "display_name": "andresEnv",
   "language": "python",
   "name": "andresenv"
  },
  "language_info": {
   "codemirror_mode": {
    "name": "ipython",
    "version": 3
   },
   "file_extension": ".py",
   "mimetype": "text/x-python",
   "name": "python",
   "nbconvert_exporter": "python",
   "pygments_lexer": "ipython3",
   "version": "3.6.0"
  }
 },
 "nbformat": 4,
 "nbformat_minor": 2
}
