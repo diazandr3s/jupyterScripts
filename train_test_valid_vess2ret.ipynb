{
 "cells": [
  {
   "cell_type": "code",
   "execution_count": 1,
   "metadata": {},
   "outputs": [
    {
     "name": "stdout",
     "output_type": "stream",
     "text": [
      "Im264_ORIGA.jpg\n",
      "Train images: 1761\n",
      "Test images: 1080\n",
      "Val images: 756\n"
     ]
    },
    {
     "name": "stderr",
     "output_type": "stream",
     "text": [
      "/home/cvblab03/.virtualenvs/andresEnv/lib/python3.6/site-packages/sklearn/cross_validation.py:41: DeprecationWarning: This module was deprecated in version 0.18 in favor of the model_selection module into which all the refactored classes and functions are moved. Also note that the interface of the new CV iterators are different from that of this module. This module will be removed in 0.20.\n",
      "  \"This module will be removed in 0.20.\", DeprecationWarning)\n"
     ]
    }
   ],
   "source": [
    "import os \n",
    "import numpy as np\n",
    "import matplotlib.pyplot as plt\n",
    "from sklearn.cross_validation import train_test_split\n",
    "import random\n",
    "import subprocess\n",
    "\n",
    "pathImg = '../vess2ret/data/data_vessels/'\n",
    "\n",
    "percentageTest = 0.30\n",
    "percentageVal = 0.30\n",
    "\n",
    "allNames = []\n",
    "allPaths = []\n",
    "\n",
    "for root, _, files in os.walk(pathImg):\n",
    "    for name in files:\n",
    "        if name.endswith((\".jpg\", \".png\", \"JPG\")): \n",
    "            allPaths.append(root + '/' + name)\n",
    "            allNames.append(name)\n",
    "        \n",
    "# Shuffle the names array\n",
    "random.shuffle(allNames)         \n",
    "       \n",
    "# Split into validationTraining and Test    \n",
    "X_trainValid, X_test = train_test_split(allNames, test_size = percentageTest, random_state=42) \n",
    "\n",
    "# Split into validation and training\n",
    "X_train, X_valid = train_test_split(X_trainValid, test_size = percentageVal, random_state=42) \n",
    "\n",
    "print(X_train[0])\n",
    "\n",
    "print('Train images: ' + str(len(X_train)))\n",
    "print('Test images: ' + str(len(X_test)))\n",
    "print('Val images: ' + str(len(X_valid)))\n",
    "\n"
   ]
  },
  {
   "cell_type": "code",
   "execution_count": 6,
   "metadata": {},
   "outputs": [],
   "source": [
    "# Results division\n",
    "base_root = '../vess2ret/data/unet_segmentations_binary/'\n",
    "# Original images\n",
    "folder = 'A'\n",
    "\n",
    "if folder == 'A':\n",
    "    # A/ contains the binary segmentations\n",
    "    pathImg = '../vess2ret/data/data_vessels/'\n",
    "else:\n",
    "    # B/ contains the retinal images\n",
    "    pathImg = '../data/'\n",
    "    \n",
    "    \n",
    "\n",
    "\n",
    "if not os.path.exists(base_root + 'train/' + folder + '/'):\n",
    "    os.makedirs(base_root + 'train/' + folder + '/')\n",
    "    \n",
    "if not os.path.exists(base_root + 'test/' + folder + '/'):\n",
    "    os.makedirs(base_root + 'test/' + folder + '/')\n",
    "    \n",
    "if not os.path.exists(base_root + 'val/' + folder + '/'):\n",
    "    os.makedirs(base_root + 'val/' + folder + '/')    \n",
    "            \n"
   ]
  },
  {
   "cell_type": "code",
   "execution_count": 7,
   "metadata": {},
   "outputs": [],
   "source": [
    "# Saving Training images\n",
    "for name in X_train:\n",
    "    status = subprocess.call(\"cp \" + pathImg + name + ' ' + base_root + \"train/\" + folder + '/', shell=True)         "
   ]
  },
  {
   "cell_type": "code",
   "execution_count": 8,
   "metadata": {},
   "outputs": [],
   "source": [
    "# Saving Validation images\n",
    "for name in X_valid:\n",
    "        status = subprocess.call(\"cp \" + pathImg + name + ' ' + base_root + \"val/\" + folder + '/', shell=True)         "
   ]
  },
  {
   "cell_type": "code",
   "execution_count": 9,
   "metadata": {},
   "outputs": [],
   "source": [
    "# Saving Test images\n",
    "for name in X_test:\n",
    "        status = subprocess.call(\"cp \" + pathImg + name + ' ' + base_root + \"test/\" + folder + '/', shell=True)  "
   ]
  },
  {
   "cell_type": "code",
   "execution_count": null,
   "metadata": {},
   "outputs": [],
   "source": []
  }
 ],
 "metadata": {
  "kernelspec": {
   "display_name": "andresEnv",
   "language": "python",
   "name": "andresenv"
  },
  "language_info": {
   "codemirror_mode": {
    "name": "ipython",
    "version": 3
   },
   "file_extension": ".py",
   "mimetype": "text/x-python",
   "name": "python",
   "nbconvert_exporter": "python",
   "pygments_lexer": "ipython3",
   "version": "3.6.0"
  }
 },
 "nbformat": 4,
 "nbformat_minor": 2
}
